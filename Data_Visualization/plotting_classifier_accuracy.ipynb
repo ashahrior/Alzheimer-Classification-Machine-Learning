{
 "cells": [
  {
   "cell_type": "code",
   "execution_count": 2,
   "metadata": {},
   "outputs": [],
   "source": [
    "from ipywidgets import interact, interactive, fixed, interact_manual\n",
    "import matplotlib.pyplot as plt\n",
    "\n",
    "from matplotlib import style\n",
    "from matplotlib.widgets import Cursor, Button\n",
    "import pandas as pd\n",
    "import mplcursors\n",
    "%matplotlib inline\n",
    "style.use('ggplot')\n"
   ]
  },
  {
   "cell_type": "code",
   "execution_count": 3,
   "metadata": {},
   "outputs": [],
   "source": [
    "def onclick(event):\n",
    "    print('%s click: button=%d, x=%d, y=%d, xdata=%f, ydata=%f' %\n",
    "    ('double' if event.dblclick else 'single', event.button,event.x, event.y, event.xdata, event.ydata))"
   ]
  },
  {
   "cell_type": "code",
   "execution_count": 4,
   "metadata": {},
   "outputs": [],
   "source": [
    "def single_plotter(xl, sheet, type):\n",
    "    \n",
    "    data = pd.read_excel(xl,sheet)\n",
    "    fig, ax = plt.subplots(2)\n",
    "\n",
    "    #cid = fig.canvas.mpl_connect('button_press_event', onclick)\n",
    "    \n",
    "    ax[0].scatter(data['COMPONENT-NO.'], data['% ACCURACY'], alpha=.5, s=7)\n",
    "    ax[0].set_xlabel('Components')\n",
    "    ax[0].set_ylabel('Accuracy %')\n",
    "    ax[0].set_title(type+'classifier performance on GLCM data')\n",
    "    ax[1].plot(data['COMPONENT-NO.'], data['% ACCURACY'], alpha=.5)\n",
    "    ax[1].set_xlabel('Components')\n",
    "    ax[1].set_ylabel('Accuracy %')\n",
    "    mplcursors.cursor(hover=True)\n",
    "    plt.show()\n",
    "    #plt.savefig(path+'{}.png'.format(serial))\n"
   ]
  },
  {
   "cell_type": "code",
   "execution_count": 5,
   "metadata": {},
   "outputs": [],
   "source": [
    "def all_plotter(dt,gb,k,lg,ld,r,s):\n",
    "    xl = pd.ExcelFile(\"E:\\\\THESIS\\\\ADNI_data\\\\ADNI1_Annual_2_Yr_3T_306_WORK\\\\LogRegClassifier\\\\all_GLCM_results.xlsx\")\n",
    "    sheets = ['dtree_unique_max','gaussnb_unique_max','kn_unique_max','logreg_unique_max','lda_unique_max','randforest_unique_max','svc_unique_max']\n",
    "    \n",
    "    dtree = pd.read_excel(xl,sheets[0])\n",
    "    gnb = pd.read_excel(xl,sheets[1])\n",
    "    kn = pd.read_excel(xl,sheets[2])\n",
    "    log = pd.read_excel(xl,sheets[3])\n",
    "    lda = pd.read_excel(xl,sheets[4])\n",
    "    rf = pd.read_excel(xl,sheets[5])\n",
    "    sv = pd.read_excel(xl,sheets[6])\n",
    "    \n",
    "    fig, ax = plt.subplots(2)\n",
    "    \n",
    "    ax[0].set_title('classifier performance on GLCM data')\n",
    "    \n",
    "    ax[0].set_xlabel('Components')\n",
    "    ax[0].set_ylabel('Accuracy %')\n",
    "    ax[1].set_xlabel('Components')\n",
    "    ax[1].set_ylabel('Accuracy %')\n",
    "\n",
    "    #cid = fig.canvas.mpl_connect('button_press_event', onclick)\n",
    "    markers = ['o', 'v', '^', '<', '>', 's', 'd']\n",
    "    if dt:\n",
    "        ax[0].scatter(dtree['COMPONENT-NO.'], dtree['% ACCURACY'], alpha=0.5, marker=markers[0])\n",
    "        ax[1].plot(dtree['COMPONENT-NO.'], dtree['% ACCURACY'], alpha=0.5)\n",
    "    if gb:\n",
    "        ax[0].scatter(gnb['COMPONENT-NO.'], gnb['% ACCURACY'], alpha=0.5, marker=markers[1])\n",
    "        ax[1].plot(gnb['COMPONENT-NO.'], gnb['% ACCURACY'], alpha=0.5)\n",
    "    if k:\n",
    "        ax[0].scatter(kn['COMPONENT-NO.'], kn['% ACCURACY'], alpha=0.5, marker=markers[2])\n",
    "        ax[1].plot(kn['COMPONENT-NO.'], kn['% ACCURACY'], alpha=0.5)\n",
    "    if lg:\n",
    "        ax[0].scatter(log['COMPONENT-NO.'], log['% ACCURACY'], alpha=0.5, marker=markers[3])\n",
    "        ax[1].plot(log['COMPONENT-NO.'], log['% ACCURACY'], alpha=0.5)\n",
    "    if ld:\n",
    "        ax[0].scatter(lda['COMPONENT-NO.'], lda['% ACCURACY'], alpha=0.5, marker=markers[4])\n",
    "        ax[1].plot(lda['COMPONENT-NO.'], lda['% ACCURACY'], alpha=0.5)\n",
    "    if r:\n",
    "        ax[0].scatter(rf['COMPONENT-NO.'], rf['% ACCURACY'],alpha=0.5, marker=markers[5])\n",
    "        ax[1].plot(rf['COMPONENT-NO.'], rf['% ACCURACY'],alpha=0.5)\n",
    "    if s:\n",
    "        ax[0].scatter(sv['COMPONENT-NO.'], sv['% ACCURACY'], alpha=0.5, marker=markers[6])\n",
    "        ax[1].plot(sv['COMPONENT-NO.'], sv['% ACCURACY'], alpha=0.5)\n",
    "    \n",
    "    mplcursors.cursor(hover=True)\n",
    "    plt.show()\n",
    "    #plt.savefig(path+'{}.png'.format(serial))\n"
   ]
  },
  {
   "cell_type": "code",
   "execution_count": 6,
   "metadata": {},
   "outputs": [
    {
     "output_type": "error",
     "ename": "FileNotFoundError",
     "evalue": "[Errno 2] No such file or directory: 'E:\\\\THESIS\\\\ADNI_data\\\\ADNI1_Annual_2_Yr_3T_306_WORK\\\\LogRegClassifier\\\\all_GLCM_results.xlsx'",
     "traceback": [
      "\u001b[1;31m---------------------------------------------------------------------------\u001b[0m",
      "\u001b[1;31mFileNotFoundError\u001b[0m                         Traceback (most recent call last)",
      "\u001b[1;32m<ipython-input-6-7c59ca8d30df>\u001b[0m in \u001b[0;36m<module>\u001b[1;34m\u001b[0m\n\u001b[1;32m----> 1\u001b[1;33m \u001b[0mdf\u001b[0m \u001b[1;33m=\u001b[0m \u001b[0mpd\u001b[0m\u001b[1;33m.\u001b[0m\u001b[0mExcelFile\u001b[0m\u001b[1;33m(\u001b[0m\u001b[1;34m\"E:\\\\THESIS\\\\ADNI_data\\\\ADNI1_Annual_2_Yr_3T_306_WORK\\\\LogRegClassifier\\\\all_GLCM_results.xlsx\"\u001b[0m\u001b[1;33m)\u001b[0m\u001b[1;33m\u001b[0m\u001b[1;33m\u001b[0m\u001b[0m\n\u001b[0m\u001b[0;32m      2\u001b[0m \u001b[0mclassifiers\u001b[0m \u001b[1;33m=\u001b[0m \u001b[1;33m[\u001b[0m\u001b[1;34m'dtree_unique_max'\u001b[0m\u001b[1;33m,\u001b[0m\u001b[1;34m'gaussnb_unique_max'\u001b[0m\u001b[1;33m,\u001b[0m\u001b[1;34m'kn_unique_max'\u001b[0m\u001b[1;33m,\u001b[0m\u001b[1;34m'logreg_unique_max'\u001b[0m\u001b[1;33m,\u001b[0m\u001b[1;34m'lda_unique_max'\u001b[0m\u001b[1;33m,\u001b[0m\u001b[1;34m'randforest_unique_max'\u001b[0m\u001b[1;33m,\u001b[0m\u001b[1;34m'svc_unique_max'\u001b[0m\u001b[1;33m]\u001b[0m\u001b[1;33m\u001b[0m\u001b[1;33m\u001b[0m\u001b[0m\n\u001b[0;32m      3\u001b[0m \u001b[1;31m#single_plotter(df,'dtree_unique_max','Decision tree')\u001b[0m\u001b[1;33m\u001b[0m\u001b[1;33m\u001b[0m\u001b[1;33m\u001b[0m\u001b[0m\n\u001b[0;32m      4\u001b[0m \u001b[1;31m#single_plotter(df,'gaussnb_unique_max','Gaussian NB')\u001b[0m\u001b[1;33m\u001b[0m\u001b[1;33m\u001b[0m\u001b[1;33m\u001b[0m\u001b[0m\n\u001b[0;32m      5\u001b[0m \u001b[1;31m#single_plotter(df,'kn_unique_max','KNeighbor')\u001b[0m\u001b[1;33m\u001b[0m\u001b[1;33m\u001b[0m\u001b[1;33m\u001b[0m\u001b[0m\n",
      "\u001b[1;32m~\\Anaconda3\\lib\\site-packages\\pandas\\io\\excel.py\u001b[0m in \u001b[0;36m__init__\u001b[1;34m(self, io, engine)\u001b[0m\n\u001b[0;32m    651\u001b[0m         \u001b[0mself\u001b[0m\u001b[1;33m.\u001b[0m\u001b[0m_io\u001b[0m \u001b[1;33m=\u001b[0m \u001b[0m_stringify_path\u001b[0m\u001b[1;33m(\u001b[0m\u001b[0mio\u001b[0m\u001b[1;33m)\u001b[0m\u001b[1;33m\u001b[0m\u001b[1;33m\u001b[0m\u001b[0m\n\u001b[0;32m    652\u001b[0m \u001b[1;33m\u001b[0m\u001b[0m\n\u001b[1;32m--> 653\u001b[1;33m         \u001b[0mself\u001b[0m\u001b[1;33m.\u001b[0m\u001b[0m_reader\u001b[0m \u001b[1;33m=\u001b[0m \u001b[0mself\u001b[0m\u001b[1;33m.\u001b[0m\u001b[0m_engines\u001b[0m\u001b[1;33m[\u001b[0m\u001b[0mengine\u001b[0m\u001b[1;33m]\u001b[0m\u001b[1;33m(\u001b[0m\u001b[0mself\u001b[0m\u001b[1;33m.\u001b[0m\u001b[0m_io\u001b[0m\u001b[1;33m)\u001b[0m\u001b[1;33m\u001b[0m\u001b[1;33m\u001b[0m\u001b[0m\n\u001b[0m\u001b[0;32m    654\u001b[0m \u001b[1;33m\u001b[0m\u001b[0m\n\u001b[0;32m    655\u001b[0m     \u001b[1;32mdef\u001b[0m \u001b[0m__fspath__\u001b[0m\u001b[1;33m(\u001b[0m\u001b[0mself\u001b[0m\u001b[1;33m)\u001b[0m\u001b[1;33m:\u001b[0m\u001b[1;33m\u001b[0m\u001b[1;33m\u001b[0m\u001b[0m\n",
      "\u001b[1;32m~\\Anaconda3\\lib\\site-packages\\pandas\\io\\excel.py\u001b[0m in \u001b[0;36m__init__\u001b[1;34m(self, filepath_or_buffer)\u001b[0m\n\u001b[0;32m    422\u001b[0m             \u001b[0mself\u001b[0m\u001b[1;33m.\u001b[0m\u001b[0mbook\u001b[0m \u001b[1;33m=\u001b[0m \u001b[0mxlrd\u001b[0m\u001b[1;33m.\u001b[0m\u001b[0mopen_workbook\u001b[0m\u001b[1;33m(\u001b[0m\u001b[0mfile_contents\u001b[0m\u001b[1;33m=\u001b[0m\u001b[0mdata\u001b[0m\u001b[1;33m)\u001b[0m\u001b[1;33m\u001b[0m\u001b[1;33m\u001b[0m\u001b[0m\n\u001b[0;32m    423\u001b[0m         \u001b[1;32melif\u001b[0m \u001b[0misinstance\u001b[0m\u001b[1;33m(\u001b[0m\u001b[0mfilepath_or_buffer\u001b[0m\u001b[1;33m,\u001b[0m \u001b[0mcompat\u001b[0m\u001b[1;33m.\u001b[0m\u001b[0mstring_types\u001b[0m\u001b[1;33m)\u001b[0m\u001b[1;33m:\u001b[0m\u001b[1;33m\u001b[0m\u001b[1;33m\u001b[0m\u001b[0m\n\u001b[1;32m--> 424\u001b[1;33m             \u001b[0mself\u001b[0m\u001b[1;33m.\u001b[0m\u001b[0mbook\u001b[0m \u001b[1;33m=\u001b[0m \u001b[0mxlrd\u001b[0m\u001b[1;33m.\u001b[0m\u001b[0mopen_workbook\u001b[0m\u001b[1;33m(\u001b[0m\u001b[0mfilepath_or_buffer\u001b[0m\u001b[1;33m)\u001b[0m\u001b[1;33m\u001b[0m\u001b[1;33m\u001b[0m\u001b[0m\n\u001b[0m\u001b[0;32m    425\u001b[0m         \u001b[1;32melse\u001b[0m\u001b[1;33m:\u001b[0m\u001b[1;33m\u001b[0m\u001b[1;33m\u001b[0m\u001b[0m\n\u001b[0;32m    426\u001b[0m             raise ValueError('Must explicitly set engine if not passing in'\n",
      "\u001b[1;32m~\\Anaconda3\\lib\\site-packages\\xlrd\\__init__.py\u001b[0m in \u001b[0;36mopen_workbook\u001b[1;34m(filename, logfile, verbosity, use_mmap, file_contents, encoding_override, formatting_info, on_demand, ragged_rows)\u001b[0m\n\u001b[0;32m    109\u001b[0m     \u001b[1;32melse\u001b[0m\u001b[1;33m:\u001b[0m\u001b[1;33m\u001b[0m\u001b[1;33m\u001b[0m\u001b[0m\n\u001b[0;32m    110\u001b[0m         \u001b[0mfilename\u001b[0m \u001b[1;33m=\u001b[0m \u001b[0mos\u001b[0m\u001b[1;33m.\u001b[0m\u001b[0mpath\u001b[0m\u001b[1;33m.\u001b[0m\u001b[0mexpanduser\u001b[0m\u001b[1;33m(\u001b[0m\u001b[0mfilename\u001b[0m\u001b[1;33m)\u001b[0m\u001b[1;33m\u001b[0m\u001b[1;33m\u001b[0m\u001b[0m\n\u001b[1;32m--> 111\u001b[1;33m         \u001b[1;32mwith\u001b[0m \u001b[0mopen\u001b[0m\u001b[1;33m(\u001b[0m\u001b[0mfilename\u001b[0m\u001b[1;33m,\u001b[0m \u001b[1;34m\"rb\"\u001b[0m\u001b[1;33m)\u001b[0m \u001b[1;32mas\u001b[0m \u001b[0mf\u001b[0m\u001b[1;33m:\u001b[0m\u001b[1;33m\u001b[0m\u001b[1;33m\u001b[0m\u001b[0m\n\u001b[0m\u001b[0;32m    112\u001b[0m             \u001b[0mpeek\u001b[0m \u001b[1;33m=\u001b[0m \u001b[0mf\u001b[0m\u001b[1;33m.\u001b[0m\u001b[0mread\u001b[0m\u001b[1;33m(\u001b[0m\u001b[0mpeeksz\u001b[0m\u001b[1;33m)\u001b[0m\u001b[1;33m\u001b[0m\u001b[1;33m\u001b[0m\u001b[0m\n\u001b[0;32m    113\u001b[0m     \u001b[1;32mif\u001b[0m \u001b[0mpeek\u001b[0m \u001b[1;33m==\u001b[0m \u001b[1;34mb\"PK\\x03\\x04\"\u001b[0m\u001b[1;33m:\u001b[0m \u001b[1;31m# a ZIP file\u001b[0m\u001b[1;33m\u001b[0m\u001b[1;33m\u001b[0m\u001b[0m\n",
      "\u001b[1;31mFileNotFoundError\u001b[0m: [Errno 2] No such file or directory: 'E:\\\\THESIS\\\\ADNI_data\\\\ADNI1_Annual_2_Yr_3T_306_WORK\\\\LogRegClassifier\\\\all_GLCM_results.xlsx'"
     ]
    }
   ],
   "source": [
    "df = pd.ExcelFile(\"E:\\\\THESIS\\\\ADNI_data\\\\ADNI1_Annual_2_Yr_3T_306_WORK\\\\LogRegClassifier\\\\all_GLCM_results.xlsx\")\n",
    "classifiers = ['dtree_unique_max','gaussnb_unique_max','kn_unique_max','logreg_unique_max','lda_unique_max','randforest_unique_max','svc_unique_max']\n",
    "#single_plotter(df,'dtree_unique_max','Decision tree')\n",
    "#single_plotter(df,'gaussnb_unique_max','Gaussian NB')\n",
    "#single_plotter(df,'kn_unique_max','KNeighbor')\n",
    "#single_plotter(df,'lda_unique_max','LDA')\n",
    "#single_plotter(df,'logreg_unique_max','Logistic regression')\n",
    "#single_plotter(df,'randforest_unique_max','Random forest')\n",
    "#single_plotter(df,'svc_unique_max','SVC')\n",
    "    \n",
    "interact(all_plotter,dt = True, gb = False, k = False, lg = False, ld = False, r= False, s= False)"
   ]
  },
  {
   "cell_type": "code",
   "execution_count": null,
   "metadata": {},
   "outputs": [],
   "source": []
  }
 ],
 "metadata": {
  "language_info": {
   "codemirror_mode": {
    "name": "ipython",
    "version": 3
   },
   "file_extension": ".py",
   "mimetype": "text/x-python",
   "name": "python",
   "nbconvert_exporter": "python",
   "pygments_lexer": "ipython3",
   "version": "3.7.3-final"
  },
  "orig_nbformat": 2,
  "kernelspec": {
   "name": "python3",
   "display_name": "Python 3"
  }
 },
 "nbformat": 4,
 "nbformat_minor": 2
}