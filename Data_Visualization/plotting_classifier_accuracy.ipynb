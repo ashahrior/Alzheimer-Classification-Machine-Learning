{
 "cells": [
  {
   "cell_type": "code",
   "execution_count": 1,
   "metadata": {},
   "outputs": [],
   "source": [
    "from ipywidgets import interact, interactive, fixed, interact_manual\n",
    "import matplotlib.pyplot as plt\n",
    "\n",
    "from matplotlib import style\n",
    "from matplotlib.widgets import Cursor, Button\n",
    "import pandas as pd\n",
    "import mplcursors\n",
    "%matplotlib inline\n",
    "style.use('ggplot')\n"
   ]
  },
  {
   "cell_type": "code",
   "execution_count": 2,
   "metadata": {},
   "outputs": [],
   "source": [
    "def onclick(event):\n",
    "    print('%s click: button=%d, x=%d, y=%d, xdata=%f, ydata=%f' %\n",
    "    ('double' if event.dblclick else 'single', event.button,event.x, event.y, event.xdata, event.ydata))"
   ]
  },
  {
   "cell_type": "code",
   "execution_count": 3,
   "metadata": {},
   "outputs": [],
   "source": [
    "def single_plotter(xl, sheet, type):\n",
    "    \n",
    "    data = pd.read_excel(xl,sheet)\n",
    "    fig, ax = plt.subplots(2)\n",
    "\n",
    "    #cid = fig.canvas.mpl_connect('button_press_event', onclick)\n",
    "    \n",
    "    ax[0].scatter(data['COMPONENT-NO.'], data['% ACCURACY'], alpha=.5, s=7)\n",
    "    ax[0].set_xlabel('Components')\n",
    "    ax[0].set_ylabel('Accuracy %')\n",
    "    ax[0].set_title(type+'classifier performance on GLCM data')\n",
    "    ax[1].plot(data['COMPONENT-NO.'], data['% ACCURACY'], alpha=.5)\n",
    "    ax[1].set_xlabel('Components')\n",
    "    ax[1].set_ylabel('Accuracy %')\n",
    "    mplcursors.cursor(hover=True)\n",
    "    plt.show()\n",
    "    #plt.savefig(path+'{}.png'.format(serial))\n"
   ]
  },
  {
   "cell_type": "code",
   "execution_count": 21,
   "metadata": {},
   "outputs": [],
   "source": [
    "def all_plotter(dt,gb,k,lg,ld,r,s):\n",
    "    xl = pd.ExcelFile(\"E:\\\\THESIS\\\\ADNI_data\\\\ADNI1_Annual_2_Yr_3T_306_WORK\\\\LogRegClassifier\\\\all_GLCM_results.xlsx\")\n",
    "    sheets = ['dtree_unique_max','gaussnb_unique_max','kn_unique_max','logreg_unique_max','lda_unique_max','randforest_unique_max','svc_unique_max']\n",
    "    \n",
    "    dtree = pd.read_excel(xl,sheets[0])\n",
    "    gnb = pd.read_excel(xl,sheets[1])\n",
    "    kn = pd.read_excel(xl,sheets[2])\n",
    "    log = pd.read_excel(xl,sheets[3])\n",
    "    lda = pd.read_excel(xl,sheets[4])\n",
    "    rf = pd.read_excel(xl,sheets[5])\n",
    "    sv = pd.read_excel(xl,sheets[6])\n",
    "    \n",
    "    fig, ax = plt.subplots(2)\n",
    "    \n",
    "    ax[0].set_title('classifier performance on GLCM data')\n",
    "    \n",
    "    ax[0].set_xlabel('Components')\n",
    "    ax[0].set_ylabel('Accuracy %')\n",
    "    ax[1].set_xlabel('Components')\n",
    "    ax[1].set_ylabel('Accuracy %')\n",
    "\n",
    "    #cid = fig.canvas.mpl_connect('button_press_event', onclick)\n",
    "    markers = ['o', 'v', '^', '<', '>', 's', 'd']\n",
    "    if dt:\n",
    "        ax[0].scatter(dtree['COMPONENT-NO.'], dtree['% ACCURACY'], alpha=0.5, marker=markers[0])\n",
    "        ax[1].plot(dtree['COMPONENT-NO.'], dtree['% ACCURACY'], alpha=0.5)\n",
    "    if gb:\n",
    "        ax[0].scatter(gnb['COMPONENT-NO.'], gnb['% ACCURACY'], alpha=0.5, marker=markers[1])\n",
    "        ax[1].plot(gnb['COMPONENT-NO.'], gnb['% ACCURACY'], alpha=0.5)\n",
    "    if k:\n",
    "        ax[0].scatter(kn['COMPONENT-NO.'], kn['% ACCURACY'], alpha=0.5, marker=markers[2])\n",
    "        ax[1].plot(kn['COMPONENT-NO.'], kn['% ACCURACY'], alpha=0.5)\n",
    "    if lg:\n",
    "        ax[0].scatter(log['COMPONENT-NO.'], log['% ACCURACY'], alpha=0.5, marker=markers[3])\n",
    "        ax[1].plot(log['COMPONENT-NO.'], log['% ACCURACY'], alpha=0.5)\n",
    "    if ld:\n",
    "        ax[0].scatter(lda['COMPONENT-NO.'], lda['% ACCURACY'], alpha=0.5, marker=markers[4])\n",
    "        ax[1].plot(lda['COMPONENT-NO.'], lda['% ACCURACY'], alpha=0.5)\n",
    "    if r:\n",
    "        ax[0].scatter(rf['COMPONENT-NO.'], rf['% ACCURACY'],alpha=0.5, marker=markers[5])\n",
    "        ax[1].plot(rf['COMPONENT-NO.'], rf['% ACCURACY'],alpha=0.5)\n",
    "    if s:\n",
    "        ax[0].scatter(sv['COMPONENT-NO.'], sv['% ACCURACY'], alpha=0.5, marker=markers[6])\n",
    "        ax[1].plot(sv['COMPONENT-NO.'], sv['% ACCURACY'], alpha=0.5)\n",
    "    \n",
    "    mplcursors.cursor(hover=True)\n",
    "    plt.show()\n",
    "    #plt.savefig(path+'{}.png'.format(serial))\n"
   ]
  },
  {
   "cell_type": "code",
   "execution_count": 23,
   "metadata": {},
   "outputs": [
    {
     "output_type": "display_data",
     "data": {
      "text/plain": "interactive(children=(Checkbox(value=True, description='dt'), Checkbox(value=False, description='gb'), Checkbo…",
      "application/vnd.jupyter.widget-view+json": {
       "version_major": 2,
       "version_minor": 0,
       "model_id": "a268513e51464b4b83bcc89363c2438e"
      }
     },
     "metadata": {}
    },
    {
     "output_type": "execute_result",
     "data": {
      "text/plain": "<function __main__.all_plotter(dt, gb, k, lg, ld, r, s)>"
     },
     "metadata": {},
     "execution_count": 23
    }
   ],
   "source": [
    "df = pd.ExcelFile(\"E:\\\\THESIS\\\\ADNI_data\\\\ADNI1_Annual_2_Yr_3T_306_WORK\\\\LogRegClassifier\\\\all_GLCM_results.xlsx\")\n",
    "classifiers = ['dtree_unique_max','gaussnb_unique_max','kn_unique_max','logreg_unique_max','lda_unique_max','randforest_unique_max','svc_unique_max']\n",
    "#single_plotter(df,'dtree_unique_max','Decision tree')\n",
    "#single_plotter(df,'gaussnb_unique_max','Gaussian NB')\n",
    "#single_plotter(df,'kn_unique_max','KNeighbor')\n",
    "#single_plotter(df,'lda_unique_max','LDA')\n",
    "#single_plotter(df,'logreg_unique_max','Logistic regression')\n",
    "#single_plotter(df,'randforest_unique_max','Random forest')\n",
    "#single_plotter(df,'svc_unique_max','SVC')\n",
    "    \n",
    "interact(all_plotter,dt = True, gb = False, k = False, lg = False, ld = False, r= False, s= False)"
   ]
  },
  {
   "cell_type": "code",
   "execution_count": null,
   "metadata": {},
   "outputs": [],
   "source": []
  }
 ],
 "metadata": {
  "language_info": {
   "codemirror_mode": {
    "name": "ipython",
    "version": 3
   },
   "file_extension": ".py",
   "mimetype": "text/x-python",
   "name": "python",
   "nbconvert_exporter": "python",
   "pygments_lexer": "ipython3",
   "version": "3.7.3-final"
  },
  "orig_nbformat": 2,
  "kernelspec": {
   "name": "python3",
   "display_name": "Python 3"
  }
 },
 "nbformat": 4,
 "nbformat_minor": 2
}