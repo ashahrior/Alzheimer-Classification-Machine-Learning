{
 "cells": [
  {
   "cell_type": "code",
   "execution_count": 1,
   "metadata": {},
   "outputs": [],
   "source": [
    "from ipywidgets import interact, interactive, fixed, interact_manual\n",
    "import matplotlib.pyplot as plt\n",
    "\n",
    "from matplotlib import style\n",
    "from matplotlib.widgets import Cursor, Button\n",
    "import pandas as pd\n",
    "import mplcursors\n",
    "%matplotlib inline\n",
    "style.use('ggplot')"
   ]
  },
  {
   "cell_type": "code",
   "execution_count": 2,
   "metadata": {},
   "outputs": [],
   "source": [
    "def onclick(event):\n",
    "    print('%s click: button=%d, x=%d, y=%d, xdata=%f, ydata=%f' %\n",
    "    ('double' if event.dblclick else 'single', event.button,event.x, event.y, event.xdata, event.ydata))"
   ]
  },
  {
   "cell_type": "code",
   "execution_count": 3,
   "metadata": {},
   "outputs": [],
   "source": [
    "def single_class_plotter(xl, sheet, type):\n",
    "    \n",
    "    data = pd.read_excel(xl,sheet)\n",
    "    fig, ax = plt.subplots(2)\n",
    "\n",
    "    #cid = fig.canvas.mpl_connect('button_press_event', onclick)\n",
    "    \n",
    "    ax[0].scatter(data['COMPONENT-NO.'], data['%-ACCURACY'])\n",
    "    ax[0].set_xlabel('Components')\n",
    "    ax[0].set_ylabel('Accuracy %')\n",
    "    ax[0].set_title(type+'classifier performance on GLCM data')\n",
    "    ax[1].plot(data['COMPONENT-NO.'], data['%-ACCURACY'])\n",
    "    ax[1].set_xlabel('Components')\n",
    "    ax[1].set_ylabel('Accuracy %')\n",
    "    mplcursors.cursor(hover=True)\n",
    "    plt.show()\n",
    "    #plt.savefig(path+'{}.png'.format(serial))\n"
   ]
  },
  {
   "cell_type": "code",
   "execution_count": null,
   "metadata": {},
   "outputs": [],
   "source": []
  }
 ],
 "metadata": {
  "language_info": {
   "codemirror_mode": {
    "name": "ipython",
    "version": 3
   },
   "file_extension": ".py",
   "mimetype": "text/x-python",
   "name": "python",
   "nbconvert_exporter": "python",
   "pygments_lexer": "ipython3",
   "version": "3.7.3-final"
  },
  "orig_nbformat": 2,
  "kernelspec": {
   "name": "python3",
   "display_name": "Python 3"
  }
 },
 "nbformat": 4,
 "nbformat_minor": 2
}